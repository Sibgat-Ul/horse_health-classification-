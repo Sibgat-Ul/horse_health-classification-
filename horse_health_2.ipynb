{
 "cells": [
  {
   "cell_type": "code",
   "execution_count": 40,
   "outputs": [],
   "source": [
    "import pandas as pd\n",
    "import numpy as np\n",
    "import matplotlib.pyplot as plt\n",
    "import seaborn as sns"
   ],
   "metadata": {
    "collapsed": false,
    "ExecuteTime": {
     "end_time": "2023-10-02T17:39:37.775604101Z",
     "start_time": "2023-10-02T17:39:37.668084986Z"
    }
   },
   "id": "44218599183c4c31"
  },
  {
   "cell_type": "code",
   "execution_count": 52,
   "outputs": [
    {
     "data": {
      "text/plain": "(1531,)"
     },
     "execution_count": 52,
     "metadata": {},
     "output_type": "execute_result"
    }
   ],
   "source": [
    "train_data = pd.read_csv('../datasets/horse_health/train.csv')\n",
    "origin = pd.read_csv('../datasets/horse_health/horse.csv')\n",
    "train_data.drop('id', axis=1, inplace=True)\n",
    "train_data = pd.concat([train_data, origin], axis=0)\n",
    "train_data.drop_duplicates(inplace=True)\n",
    "\n",
    "test_data = pd.read_csv('../datasets/horse_health/test.csv')\n",
    "test_id = test_data['id']\n",
    "\n",
    "test_data.drop('id', axis=1, inplace=True)\n",
    "\n",
    "y = train_data['outcome']\n",
    "train_data.drop('outcome', axis=1, inplace=True)\n",
    "\n",
    "combined_data = pd.concat([train_data, test_data], axis=0, ignore_index=True)\n",
    "combined_data.columns\n",
    "y.shape"
   ],
   "metadata": {
    "collapsed": false,
    "ExecuteTime": {
     "end_time": "2023-10-02T17:41:41.413846446Z",
     "start_time": "2023-10-02T17:41:41.344960103Z"
    }
   },
   "id": "845ee57e3cf63b93"
  },
  {
   "cell_type": "code",
   "execution_count": 42,
   "outputs": [],
   "source": [
    "missing_cols_train = train_data.columns[train_data.isnull().any()]\n",
    "missing_cols_test = test_data.columns[test_data.isnull().any()]\n",
    "\n",
    "missing_train_rows = pd.DataFrame(train_data[train_data.isnull().any(axis=1)])\n",
    "missing_test_rows = pd.DataFrame(test_data[test_data.isnull().any(axis=1)])\n",
    "\n",
    "missing_train_rows.to_csv('./missing_train_rows.csv', index=True)"
   ],
   "metadata": {
    "collapsed": false,
    "ExecuteTime": {
     "end_time": "2023-10-02T17:39:37.989816581Z",
     "start_time": "2023-10-02T17:39:37.841961254Z"
    }
   },
   "id": "84b50c1489527ca5"
  },
  {
   "cell_type": "code",
   "execution_count": 43,
   "outputs": [],
   "source": [
    "missing_train_rows.drop(missing_cols_train, axis=1, inplace=True)\n",
    "missing_test_rows.drop(missing_cols_test, axis=1, inplace=True)"
   ],
   "metadata": {
    "collapsed": false,
    "ExecuteTime": {
     "end_time": "2023-10-02T17:39:38.109583377Z",
     "start_time": "2023-10-02T17:39:37.992206191Z"
    }
   },
   "id": "a4c461eaa3d500d9"
  },
  {
   "cell_type": "code",
   "execution_count": 44,
   "outputs": [],
   "source": [
    "### Utility functions\n",
    "def get_num_cols(df):\n",
    "    return [col for col in df.columns if df[col].dtype in ['int64', 'float64']]\n",
    "\n",
    "def get_cat_cols(df):\n",
    "    return [col for col in df.columns if df[col].dtype == 'object']\n",
    "\n",
    "def transform_live_death_binary(df, cols):\n",
    "    for col in cols:\n",
    "        if df[col].dtype in ['int64', 'float64']:\n",
    "            continue\n",
    "        df[col] = df[col].apply(lambda x: 1 if x == 'euthanized' else 0 if x == 'lived' else 2)\n",
    "        df[col] = df[col].astype('int64')\n",
    "    return df\n",
    "\n",
    "def transform_age(df, cols):\n",
    "    for col in cols:\n",
    "        df[col] = df[col].apply(lambda x: 1 if x == 'adult' else 0)\n",
    "        df[col] = df[col].astype('int64')\n",
    "    return df\n",
    "\n",
    "def transform_y_n(df, col):\n",
    "    df[col] = df[col].apply(lambda x: 1 if x == 'yes' else 0)\n",
    "    return df\n",
    "\n",
    "def treat_na(df, cols, filler_val):\n",
    "    for col in cols:\n",
    "        df[col] = df[col].fillna(filler_val)\n",
    "    return df\n",
    "\n",
    "def map_values(df, col, map):\n",
    "    df[col] = df[col].map(map)\n",
    "    return df\n",
    "\n"
   ],
   "metadata": {
    "collapsed": false,
    "ExecuteTime": {
     "end_time": "2023-10-02T17:39:38.289382445Z",
     "start_time": "2023-10-02T17:39:38.148409629Z"
    }
   },
   "id": "3375b2e092dd943a"
  },
  {
   "cell_type": "code",
   "execution_count": 45,
   "outputs": [
    {
     "data": {
      "text/plain": "      surgery  age  hospital_number  rectal_temp  pulse  respiratory_rate  \\\n0           1    1           530001         38.1  132.0              24.0   \n1           1    1           533836         37.5   88.0              12.0   \n2           1    1           529812         38.3  120.0              28.0   \n3           1    1          5262541         37.1   72.0              30.0   \n4           0    1          5299629         38.0   52.0              48.0   \n...       ...  ...              ...          ...    ...               ...   \n2350        0    1           529461         40.3  114.0              36.0   \n2351        1    1           535338         37.2  100.0              20.0   \n2352        1    1           529640         39.2  132.0              12.0   \n2353        0    1          5287179         38.3   54.0              66.0   \n2354        1    1           528461         38.1   66.0              12.0   \n\n      temp_of_extremities  peripheral_pulse  mucous_membrane  \\\n0                     3.0               2.0              5.0   \n1                     3.0               0.0              2.0   \n2                     3.0               2.0              1.0   \n3                     0.0               2.0              1.0   \n4                     2.0               0.0              0.0   \n...                   ...               ...              ...   \n2350                  3.0               2.0              0.0   \n2351                  3.0               2.0              2.0   \n2352                  3.0               2.0              5.0   \n2353                  2.0               0.0              0.0   \n2354                  0.0               0.0              0.0   \n\n      capillary_refill_time  ...  abdomen  packed_cell_volume  total_protein  \\\n0                       1.0  ...      1.0                57.0            8.5   \n1                       1.0  ...      1.0                33.0           64.0   \n2                       0.0  ...      0.0                37.0            6.4   \n3                       1.0  ...      1.0                53.0            7.0   \n4                       0.0  ...      2.0                47.0            7.3   \n...                     ...  ...      ...                 ...            ...   \n2350                    1.0  ...      0.0                57.0            8.1   \n2351                    1.0  ...      1.0                50.0           66.0   \n2352                    1.0  ...      NaN                53.0            7.6   \n2353                    0.0  ...      NaN                49.0            8.6   \n2354                    0.0  ...      1.0                31.5            6.2   \n\n      abdomo_appearance  abdomo_protein  surgical_lesion  lesion_1  lesion_2  \\\n0                   1.0             3.4                1      2209         0   \n1                   1.0             2.0                1      2208         0   \n2                   1.0             3.4                1      5124         0   \n3                   0.0             3.9                1      2208         0   \n4                   0.0             2.6                0         0         0   \n...                 ...             ...              ...       ...       ...   \n2350                1.0             4.5                1      3205         0   \n2351                1.0             2.0                1      2209         0   \n2352                1.0             4.5                1      2205         0   \n2353                2.0             5.0                0      3111         0   \n2354                NaN             1.6                1      2205         0   \n\n      lesion_3  cp_data  \n0            0        0  \n1            0        0  \n2            0        0  \n3            0        1  \n4            0        1  \n...        ...      ...  \n2350         0        1  \n2351         0        0  \n2352         0        0  \n2353         0        1  \n2354         0        1  \n\n[2355 rows x 27 columns]",
      "text/html": "<div>\n<style scoped>\n    .dataframe tbody tr th:only-of-type {\n        vertical-align: middle;\n    }\n\n    .dataframe tbody tr th {\n        vertical-align: top;\n    }\n\n    .dataframe thead th {\n        text-align: right;\n    }\n</style>\n<table border=\"1\" class=\"dataframe\">\n  <thead>\n    <tr style=\"text-align: right;\">\n      <th></th>\n      <th>surgery</th>\n      <th>age</th>\n      <th>hospital_number</th>\n      <th>rectal_temp</th>\n      <th>pulse</th>\n      <th>respiratory_rate</th>\n      <th>temp_of_extremities</th>\n      <th>peripheral_pulse</th>\n      <th>mucous_membrane</th>\n      <th>capillary_refill_time</th>\n      <th>...</th>\n      <th>abdomen</th>\n      <th>packed_cell_volume</th>\n      <th>total_protein</th>\n      <th>abdomo_appearance</th>\n      <th>abdomo_protein</th>\n      <th>surgical_lesion</th>\n      <th>lesion_1</th>\n      <th>lesion_2</th>\n      <th>lesion_3</th>\n      <th>cp_data</th>\n    </tr>\n  </thead>\n  <tbody>\n    <tr>\n      <th>0</th>\n      <td>1</td>\n      <td>1</td>\n      <td>530001</td>\n      <td>38.1</td>\n      <td>132.0</td>\n      <td>24.0</td>\n      <td>3.0</td>\n      <td>2.0</td>\n      <td>5.0</td>\n      <td>1.0</td>\n      <td>...</td>\n      <td>1.0</td>\n      <td>57.0</td>\n      <td>8.5</td>\n      <td>1.0</td>\n      <td>3.4</td>\n      <td>1</td>\n      <td>2209</td>\n      <td>0</td>\n      <td>0</td>\n      <td>0</td>\n    </tr>\n    <tr>\n      <th>1</th>\n      <td>1</td>\n      <td>1</td>\n      <td>533836</td>\n      <td>37.5</td>\n      <td>88.0</td>\n      <td>12.0</td>\n      <td>3.0</td>\n      <td>0.0</td>\n      <td>2.0</td>\n      <td>1.0</td>\n      <td>...</td>\n      <td>1.0</td>\n      <td>33.0</td>\n      <td>64.0</td>\n      <td>1.0</td>\n      <td>2.0</td>\n      <td>1</td>\n      <td>2208</td>\n      <td>0</td>\n      <td>0</td>\n      <td>0</td>\n    </tr>\n    <tr>\n      <th>2</th>\n      <td>1</td>\n      <td>1</td>\n      <td>529812</td>\n      <td>38.3</td>\n      <td>120.0</td>\n      <td>28.0</td>\n      <td>3.0</td>\n      <td>2.0</td>\n      <td>1.0</td>\n      <td>0.0</td>\n      <td>...</td>\n      <td>0.0</td>\n      <td>37.0</td>\n      <td>6.4</td>\n      <td>1.0</td>\n      <td>3.4</td>\n      <td>1</td>\n      <td>5124</td>\n      <td>0</td>\n      <td>0</td>\n      <td>0</td>\n    </tr>\n    <tr>\n      <th>3</th>\n      <td>1</td>\n      <td>1</td>\n      <td>5262541</td>\n      <td>37.1</td>\n      <td>72.0</td>\n      <td>30.0</td>\n      <td>0.0</td>\n      <td>2.0</td>\n      <td>1.0</td>\n      <td>1.0</td>\n      <td>...</td>\n      <td>1.0</td>\n      <td>53.0</td>\n      <td>7.0</td>\n      <td>0.0</td>\n      <td>3.9</td>\n      <td>1</td>\n      <td>2208</td>\n      <td>0</td>\n      <td>0</td>\n      <td>1</td>\n    </tr>\n    <tr>\n      <th>4</th>\n      <td>0</td>\n      <td>1</td>\n      <td>5299629</td>\n      <td>38.0</td>\n      <td>52.0</td>\n      <td>48.0</td>\n      <td>2.0</td>\n      <td>0.0</td>\n      <td>0.0</td>\n      <td>0.0</td>\n      <td>...</td>\n      <td>2.0</td>\n      <td>47.0</td>\n      <td>7.3</td>\n      <td>0.0</td>\n      <td>2.6</td>\n      <td>0</td>\n      <td>0</td>\n      <td>0</td>\n      <td>0</td>\n      <td>1</td>\n    </tr>\n    <tr>\n      <th>...</th>\n      <td>...</td>\n      <td>...</td>\n      <td>...</td>\n      <td>...</td>\n      <td>...</td>\n      <td>...</td>\n      <td>...</td>\n      <td>...</td>\n      <td>...</td>\n      <td>...</td>\n      <td>...</td>\n      <td>...</td>\n      <td>...</td>\n      <td>...</td>\n      <td>...</td>\n      <td>...</td>\n      <td>...</td>\n      <td>...</td>\n      <td>...</td>\n      <td>...</td>\n      <td>...</td>\n    </tr>\n    <tr>\n      <th>2350</th>\n      <td>0</td>\n      <td>1</td>\n      <td>529461</td>\n      <td>40.3</td>\n      <td>114.0</td>\n      <td>36.0</td>\n      <td>3.0</td>\n      <td>2.0</td>\n      <td>0.0</td>\n      <td>1.0</td>\n      <td>...</td>\n      <td>0.0</td>\n      <td>57.0</td>\n      <td>8.1</td>\n      <td>1.0</td>\n      <td>4.5</td>\n      <td>1</td>\n      <td>3205</td>\n      <td>0</td>\n      <td>0</td>\n      <td>1</td>\n    </tr>\n    <tr>\n      <th>2351</th>\n      <td>1</td>\n      <td>1</td>\n      <td>535338</td>\n      <td>37.2</td>\n      <td>100.0</td>\n      <td>20.0</td>\n      <td>3.0</td>\n      <td>2.0</td>\n      <td>2.0</td>\n      <td>1.0</td>\n      <td>...</td>\n      <td>1.0</td>\n      <td>50.0</td>\n      <td>66.0</td>\n      <td>1.0</td>\n      <td>2.0</td>\n      <td>1</td>\n      <td>2209</td>\n      <td>0</td>\n      <td>0</td>\n      <td>0</td>\n    </tr>\n    <tr>\n      <th>2352</th>\n      <td>1</td>\n      <td>1</td>\n      <td>529640</td>\n      <td>39.2</td>\n      <td>132.0</td>\n      <td>12.0</td>\n      <td>3.0</td>\n      <td>2.0</td>\n      <td>5.0</td>\n      <td>1.0</td>\n      <td>...</td>\n      <td>NaN</td>\n      <td>53.0</td>\n      <td>7.6</td>\n      <td>1.0</td>\n      <td>4.5</td>\n      <td>1</td>\n      <td>2205</td>\n      <td>0</td>\n      <td>0</td>\n      <td>0</td>\n    </tr>\n    <tr>\n      <th>2353</th>\n      <td>0</td>\n      <td>1</td>\n      <td>5287179</td>\n      <td>38.3</td>\n      <td>54.0</td>\n      <td>66.0</td>\n      <td>2.0</td>\n      <td>0.0</td>\n      <td>0.0</td>\n      <td>0.0</td>\n      <td>...</td>\n      <td>NaN</td>\n      <td>49.0</td>\n      <td>8.6</td>\n      <td>2.0</td>\n      <td>5.0</td>\n      <td>0</td>\n      <td>3111</td>\n      <td>0</td>\n      <td>0</td>\n      <td>1</td>\n    </tr>\n    <tr>\n      <th>2354</th>\n      <td>1</td>\n      <td>1</td>\n      <td>528461</td>\n      <td>38.1</td>\n      <td>66.0</td>\n      <td>12.0</td>\n      <td>0.0</td>\n      <td>0.0</td>\n      <td>0.0</td>\n      <td>0.0</td>\n      <td>...</td>\n      <td>1.0</td>\n      <td>31.5</td>\n      <td>6.2</td>\n      <td>NaN</td>\n      <td>1.6</td>\n      <td>1</td>\n      <td>2205</td>\n      <td>0</td>\n      <td>0</td>\n      <td>1</td>\n    </tr>\n  </tbody>\n</table>\n<p>2355 rows × 27 columns</p>\n</div>"
     },
     "execution_count": 45,
     "metadata": {},
     "output_type": "execute_result"
    }
   ],
   "source": [
    "pain_map = {\n",
    "    \"depressed\":1,\n",
    "    \"mild_pain\":2,\n",
    "    \"extreme_pain\":4,\n",
    "    \"alert\":3,\n",
    "    \"severe_pain\":5,\n",
    "    \"slight\":0\n",
    "}\n",
    "\n",
    "y.map({'lived':0, 'died':2, 'euthanized':1})\n",
    "\n",
    "map_values(combined_data, 'pain', pain_map)\n",
    "map_values(combined_data, 'age', {'adult':1,'young':0})\n",
    "map_values(combined_data, 'capillary_refill_time', {'less_3_sec':0, 'more_3_sec':1, '3':2})\n",
    "map_values(combined_data, 'peripheral_pulse', {'normal':0, 'increased':1, 'reduced':2, 'absent':3})\n",
    "map_values(combined_data, 'mucous_membrane', {'normal_pink':0, 'pale_pink':1, 'pale_cyanotic':2, 'bright_pink':3, 'bright_red':4, 'dark_cyanotic':5})\n",
    "map_values(combined_data, 'abdominal_distention', {'none':0, 'slight':1, 'moderate':2, 'severe':3})\n",
    "map_values(combined_data, 'nasogastric_tube', {'slight':0, 'none':1, 'significant':2})\n",
    "map_values(combined_data, 'nasogastric_reflux', {'none':0, 'more_1_liter':1, 'less_1_liter':2})\n",
    "map_values(combined_data, 'rectal_exam_feces', {'absent':0, 'normal':1, 'decreased':2, 'increased':3})\n",
    "map_values(combined_data, 'abdomen', {'distend_large':0, 'distend_small':1, 'normal':2, 'other':3})\n",
    "map_values(combined_data, 'abdomo_appearance', {'cloudy':0, 'serosanguious':1, 'clear':2})\n",
    "map_values(combined_data, 'peristalsis', {'absent':0, 'hypermotile':1, 'hypomotile':2, 'normal':3, 'distended_small':4})\n",
    "map_values(combined_data, 'temp_of_extremities', {'cold':0, 'warm':1, 'normal':2, 'cool':3})\n",
    "\n",
    "transform_y_n(combined_data, 'surgery')\n",
    "transform_y_n(combined_data, 'cp_data')\n",
    "transform_y_n(combined_data, 'surgical_lesion')"
   ],
   "metadata": {
    "collapsed": false,
    "ExecuteTime": {
     "end_time": "2023-10-02T17:39:38.652348273Z",
     "start_time": "2023-10-02T17:39:38.293930276Z"
    }
   },
   "id": "c2758af0a214c94a"
  },
  {
   "cell_type": "code",
   "execution_count": 46,
   "outputs": [
    {
     "data": {
      "text/plain": "    surgery    age  hospital_number surgical_lesion  lesion_1  lesion_2  \\\n2       yes  adult           529812             yes      5124         0   \n6       yes  adult           534787              no      3111         0   \n9       yes  adult           529640             yes      3209         0   \n14      yes  adult           528134             yes      2206         0   \n15       no  adult           528305              no     31110         0   \n..      ...    ...              ...             ...       ...       ...   \n294     yes  adult           533886              no      3205         0   \n295      no  adult           527702             yes      2208         0   \n296     yes  adult           529386             yes      3205         0   \n297     yes  adult           530612             yes      2208         0   \n298     yes  adult           534618              no      6112         0   \n\n     lesion_3 cp_data  \n2           0      no  \n6           0     yes  \n9           0     yes  \n14          0     yes  \n15          0     yes  \n..        ...     ...  \n294         0      no  \n295         0     yes  \n296         0      no  \n297         0     yes  \n298         0      no  \n\n[754 rows x 8 columns]",
      "text/html": "<div>\n<style scoped>\n    .dataframe tbody tr th:only-of-type {\n        vertical-align: middle;\n    }\n\n    .dataframe tbody tr th {\n        vertical-align: top;\n    }\n\n    .dataframe thead th {\n        text-align: right;\n    }\n</style>\n<table border=\"1\" class=\"dataframe\">\n  <thead>\n    <tr style=\"text-align: right;\">\n      <th></th>\n      <th>surgery</th>\n      <th>age</th>\n      <th>hospital_number</th>\n      <th>surgical_lesion</th>\n      <th>lesion_1</th>\n      <th>lesion_2</th>\n      <th>lesion_3</th>\n      <th>cp_data</th>\n    </tr>\n  </thead>\n  <tbody>\n    <tr>\n      <th>2</th>\n      <td>yes</td>\n      <td>adult</td>\n      <td>529812</td>\n      <td>yes</td>\n      <td>5124</td>\n      <td>0</td>\n      <td>0</td>\n      <td>no</td>\n    </tr>\n    <tr>\n      <th>6</th>\n      <td>yes</td>\n      <td>adult</td>\n      <td>534787</td>\n      <td>no</td>\n      <td>3111</td>\n      <td>0</td>\n      <td>0</td>\n      <td>yes</td>\n    </tr>\n    <tr>\n      <th>9</th>\n      <td>yes</td>\n      <td>adult</td>\n      <td>529640</td>\n      <td>yes</td>\n      <td>3209</td>\n      <td>0</td>\n      <td>0</td>\n      <td>yes</td>\n    </tr>\n    <tr>\n      <th>14</th>\n      <td>yes</td>\n      <td>adult</td>\n      <td>528134</td>\n      <td>yes</td>\n      <td>2206</td>\n      <td>0</td>\n      <td>0</td>\n      <td>yes</td>\n    </tr>\n    <tr>\n      <th>15</th>\n      <td>no</td>\n      <td>adult</td>\n      <td>528305</td>\n      <td>no</td>\n      <td>31110</td>\n      <td>0</td>\n      <td>0</td>\n      <td>yes</td>\n    </tr>\n    <tr>\n      <th>...</th>\n      <td>...</td>\n      <td>...</td>\n      <td>...</td>\n      <td>...</td>\n      <td>...</td>\n      <td>...</td>\n      <td>...</td>\n      <td>...</td>\n    </tr>\n    <tr>\n      <th>294</th>\n      <td>yes</td>\n      <td>adult</td>\n      <td>533886</td>\n      <td>no</td>\n      <td>3205</td>\n      <td>0</td>\n      <td>0</td>\n      <td>no</td>\n    </tr>\n    <tr>\n      <th>295</th>\n      <td>no</td>\n      <td>adult</td>\n      <td>527702</td>\n      <td>yes</td>\n      <td>2208</td>\n      <td>0</td>\n      <td>0</td>\n      <td>yes</td>\n    </tr>\n    <tr>\n      <th>296</th>\n      <td>yes</td>\n      <td>adult</td>\n      <td>529386</td>\n      <td>yes</td>\n      <td>3205</td>\n      <td>0</td>\n      <td>0</td>\n      <td>no</td>\n    </tr>\n    <tr>\n      <th>297</th>\n      <td>yes</td>\n      <td>adult</td>\n      <td>530612</td>\n      <td>yes</td>\n      <td>2208</td>\n      <td>0</td>\n      <td>0</td>\n      <td>yes</td>\n    </tr>\n    <tr>\n      <th>298</th>\n      <td>yes</td>\n      <td>adult</td>\n      <td>534618</td>\n      <td>no</td>\n      <td>6112</td>\n      <td>0</td>\n      <td>0</td>\n      <td>no</td>\n    </tr>\n  </tbody>\n</table>\n<p>754 rows × 8 columns</p>\n</div>"
     },
     "execution_count": 46,
     "metadata": {},
     "output_type": "execute_result"
    }
   ],
   "source": [
    "train_data = combined_data.\n",
    "missing_cols_train = train_data.columns[train_data.isnull().any()]\n",
    "missing_cols_test = test_data.columns[test_data.isnull().any()]\n",
    "\n",
    "missing_train_rows = pd.DataFrame(train_data[train_data.isnull().any(axis=1)])\n",
    "missing_test_rows = pd.DataFrame(test_data[test_data.isnull().any(axis=1)])\n",
    "\n",
    "missing_train_rows.drop(missing_cols_train, axis=1, inplace=True)\n",
    "\n",
    "missing_train_rows"
   ],
   "metadata": {
    "collapsed": false,
    "ExecuteTime": {
     "end_time": "2023-10-02T17:39:38.668817283Z",
     "start_time": "2023-10-02T17:39:38.536453807Z"
    }
   },
   "id": "71c670ae81c33c16"
  },
  {
   "cell_type": "code",
   "execution_count": 47,
   "outputs": [
    {
     "name": "stdout",
     "output_type": "stream",
     "text": [
      "['surgery', 'age', 'temp_of_extremities', 'peripheral_pulse', 'mucous_membrane', 'capillary_refill_time', 'pain', 'peristalsis', 'abdominal_distention', 'nasogastric_tube', 'nasogastric_reflux', 'rectal_exam_feces', 'abdomen', 'abdomo_appearance', 'surgical_lesion', 'cp_data']\n"
     ]
    }
   ],
   "source": [
    "num_cols = get_num_cols(train_data)\n",
    "cat_cols = get_cat_cols(train_data)\n",
    "unique_vals = {col: train_data[col].nunique() for col in cat_cols}\n",
    "\n",
    "#print(f\"{num_cols}'\\n'{cat_cols}'\\n'{unique_vals}\")\n",
    "print(cat_cols)"
   ],
   "metadata": {
    "collapsed": false,
    "ExecuteTime": {
     "end_time": "2023-10-02T17:39:38.850868522Z",
     "start_time": "2023-10-02T17:39:38.669825753Z"
    }
   },
   "id": "4823571bb692218b"
  },
  {
   "cell_type": "code",
   "execution_count": 48,
   "outputs": [
    {
     "name": "stdout",
     "output_type": "stream",
     "text": [
      "(1531, 27)\n",
      "(586, 27)\n"
     ]
    },
    {
     "data": {
      "text/plain": "surgery                  0\nage                      0\nhospital_number          0\nrectal_temp              0\npulse                    0\nrespiratory_rate         0\ntemp_of_extremities      0\nperipheral_pulse         0\nmucous_membrane          0\ncapillary_refill_time    0\npain                     0\nperistalsis              0\nabdominal_distention     0\nnasogastric_tube         0\nnasogastric_reflux       0\nnasogastric_reflux_ph    0\nrectal_exam_feces        0\nabdomen                  0\npacked_cell_volume       0\ntotal_protein            0\nabdomo_appearance        0\nabdomo_protein           0\nsurgical_lesion          0\nlesion_1                 0\nlesion_2                 0\nlesion_3                 0\ncp_data                  0\ndtype: int64"
     },
     "execution_count": 48,
     "metadata": {},
     "output_type": "execute_result"
    }
   ],
   "source": [
    "print(train_data.shape)\n",
    "train_data.drop(missing_train_rows.index, axis=0, inplace=True)\n",
    "train_data.reset_index(drop=True, inplace=True)\n",
    "print(train_data.shape)\n",
    "train_data.isnull().sum()"
   ],
   "metadata": {
    "collapsed": false,
    "ExecuteTime": {
     "end_time": "2023-10-02T17:39:38.947392357Z",
     "start_time": "2023-10-02T17:39:38.848338522Z"
    }
   },
   "id": "d7495c3422e7d3a0"
  },
  {
   "cell_type": "code",
   "execution_count": 49,
   "outputs": [],
   "source": [
    "from catboost import CatBoostClassifier\n",
    "from sklearn.model_selection import train_test_split\n",
    "from sklearn.metrics import accuracy_score, confusion_matrix, classification_report\n",
    "\n",
    "def pred_missing_cols(df, cols, df_to_change, map, model):\n",
    "    for col in cols:\n",
    "        X = df.drop(col, axis=1)\n",
    "        y = df[col]\n",
    "        X.drop(cat_cols, inplace=True, axis=1)\n",
    "        X_train, X_test, y_train, y_test = train_test_split(X, y, test_size=0.2, random_state=42)\n",
    "        \n",
    "        model.fit(X_train, y_train, verbose=False, early_stopping_rounds=5)\n",
    "        y_pred = model.predict(X_test)\n",
    "        print(f\"Accuracy score for {col}: {accuracy_score(y_test, y_pred)}\")\n",
    "        print(f\"Confusion matrix for {col}: \\n{confusion_matrix(y_test, y_pred)}\")\n",
    "        print(f\"Classification report for {col}: \\n{classification_report(y_test, y_pred)}\")\n",
    "        print(\"\\n\\n\")\n",
    "        \n",
    "        \n",
    "    \n",
    "\n",
    "model = CatBoostClassifier(iterations=1000, learning_rate=0.1, depth=5, loss_function='MultiClass')"
   ],
   "metadata": {
    "collapsed": false,
    "ExecuteTime": {
     "end_time": "2023-10-02T17:39:39.056770692Z",
     "start_time": "2023-10-02T17:39:38.950965067Z"
    }
   },
   "id": "f88d96e37ab1e30f"
  },
  {
   "cell_type": "code",
   "execution_count": 50,
   "outputs": [
    {
     "ename": "KeyError",
     "evalue": "\"['pain'] not found in axis\"",
     "output_type": "error",
     "traceback": [
      "\u001B[0;31m---------------------------------------------------------------------------\u001B[0m",
      "\u001B[0;31mKeyError\u001B[0m                                  Traceback (most recent call last)",
      "Cell \u001B[0;32mIn[50], line 3\u001B[0m\n\u001B[1;32m      1\u001B[0m X \u001B[38;5;241m=\u001B[39m train_data\u001B[38;5;241m.\u001B[39mdrop(\u001B[38;5;124m'\u001B[39m\u001B[38;5;124mpain\u001B[39m\u001B[38;5;124m'\u001B[39m, axis\u001B[38;5;241m=\u001B[39m\u001B[38;5;241m1\u001B[39m)\n\u001B[1;32m      2\u001B[0m y \u001B[38;5;241m=\u001B[39m train_data[\u001B[38;5;124m'\u001B[39m\u001B[38;5;124mpain\u001B[39m\u001B[38;5;124m'\u001B[39m]\n\u001B[0;32m----> 3\u001B[0m \u001B[43mX\u001B[49m\u001B[38;5;241;43m.\u001B[39;49m\u001B[43mdrop\u001B[49m\u001B[43m(\u001B[49m\u001B[43mcat_cols\u001B[49m\u001B[43m,\u001B[49m\u001B[43m \u001B[49m\u001B[43minplace\u001B[49m\u001B[38;5;241;43m=\u001B[39;49m\u001B[38;5;28;43;01mTrue\u001B[39;49;00m\u001B[43m,\u001B[49m\u001B[43m \u001B[49m\u001B[43maxis\u001B[49m\u001B[38;5;241;43m=\u001B[39;49m\u001B[38;5;241;43m1\u001B[39;49m\u001B[43m)\u001B[49m\n\u001B[1;32m      5\u001B[0m hist \u001B[38;5;241m=\u001B[39m model\u001B[38;5;241m.\u001B[39mfit(X, y, verbose\u001B[38;5;241m=\u001B[39m\u001B[38;5;28;01mFalse\u001B[39;00m, early_stopping_rounds\u001B[38;5;241m=\u001B[39m\u001B[38;5;241m5\u001B[39m)\n",
      "File \u001B[0;32m~/anaconda3/envs/tf_gpu/lib/python3.9/site-packages/pandas/core/frame.py:5258\u001B[0m, in \u001B[0;36mDataFrame.drop\u001B[0;34m(self, labels, axis, index, columns, level, inplace, errors)\u001B[0m\n\u001B[1;32m   5110\u001B[0m \u001B[38;5;28;01mdef\u001B[39;00m \u001B[38;5;21mdrop\u001B[39m(\n\u001B[1;32m   5111\u001B[0m     \u001B[38;5;28mself\u001B[39m,\n\u001B[1;32m   5112\u001B[0m     labels: IndexLabel \u001B[38;5;241m=\u001B[39m \u001B[38;5;28;01mNone\u001B[39;00m,\n\u001B[0;32m   (...)\u001B[0m\n\u001B[1;32m   5119\u001B[0m     errors: IgnoreRaise \u001B[38;5;241m=\u001B[39m \u001B[38;5;124m\"\u001B[39m\u001B[38;5;124mraise\u001B[39m\u001B[38;5;124m\"\u001B[39m,\n\u001B[1;32m   5120\u001B[0m ) \u001B[38;5;241m-\u001B[39m\u001B[38;5;241m>\u001B[39m DataFrame \u001B[38;5;241m|\u001B[39m \u001B[38;5;28;01mNone\u001B[39;00m:\n\u001B[1;32m   5121\u001B[0m \u001B[38;5;250m    \u001B[39m\u001B[38;5;124;03m\"\"\"\u001B[39;00m\n\u001B[1;32m   5122\u001B[0m \u001B[38;5;124;03m    Drop specified labels from rows or columns.\u001B[39;00m\n\u001B[1;32m   5123\u001B[0m \n\u001B[0;32m   (...)\u001B[0m\n\u001B[1;32m   5256\u001B[0m \u001B[38;5;124;03m            weight  1.0     0.8\u001B[39;00m\n\u001B[1;32m   5257\u001B[0m \u001B[38;5;124;03m    \"\"\"\u001B[39;00m\n\u001B[0;32m-> 5258\u001B[0m     \u001B[38;5;28;01mreturn\u001B[39;00m \u001B[38;5;28;43msuper\u001B[39;49m\u001B[43m(\u001B[49m\u001B[43m)\u001B[49m\u001B[38;5;241;43m.\u001B[39;49m\u001B[43mdrop\u001B[49m\u001B[43m(\u001B[49m\n\u001B[1;32m   5259\u001B[0m \u001B[43m        \u001B[49m\u001B[43mlabels\u001B[49m\u001B[38;5;241;43m=\u001B[39;49m\u001B[43mlabels\u001B[49m\u001B[43m,\u001B[49m\n\u001B[1;32m   5260\u001B[0m \u001B[43m        \u001B[49m\u001B[43maxis\u001B[49m\u001B[38;5;241;43m=\u001B[39;49m\u001B[43maxis\u001B[49m\u001B[43m,\u001B[49m\n\u001B[1;32m   5261\u001B[0m \u001B[43m        \u001B[49m\u001B[43mindex\u001B[49m\u001B[38;5;241;43m=\u001B[39;49m\u001B[43mindex\u001B[49m\u001B[43m,\u001B[49m\n\u001B[1;32m   5262\u001B[0m \u001B[43m        \u001B[49m\u001B[43mcolumns\u001B[49m\u001B[38;5;241;43m=\u001B[39;49m\u001B[43mcolumns\u001B[49m\u001B[43m,\u001B[49m\n\u001B[1;32m   5263\u001B[0m \u001B[43m        \u001B[49m\u001B[43mlevel\u001B[49m\u001B[38;5;241;43m=\u001B[39;49m\u001B[43mlevel\u001B[49m\u001B[43m,\u001B[49m\n\u001B[1;32m   5264\u001B[0m \u001B[43m        \u001B[49m\u001B[43minplace\u001B[49m\u001B[38;5;241;43m=\u001B[39;49m\u001B[43minplace\u001B[49m\u001B[43m,\u001B[49m\n\u001B[1;32m   5265\u001B[0m \u001B[43m        \u001B[49m\u001B[43merrors\u001B[49m\u001B[38;5;241;43m=\u001B[39;49m\u001B[43merrors\u001B[49m\u001B[43m,\u001B[49m\n\u001B[1;32m   5266\u001B[0m \u001B[43m    \u001B[49m\u001B[43m)\u001B[49m\n",
      "File \u001B[0;32m~/anaconda3/envs/tf_gpu/lib/python3.9/site-packages/pandas/core/generic.py:4549\u001B[0m, in \u001B[0;36mNDFrame.drop\u001B[0;34m(self, labels, axis, index, columns, level, inplace, errors)\u001B[0m\n\u001B[1;32m   4547\u001B[0m \u001B[38;5;28;01mfor\u001B[39;00m axis, labels \u001B[38;5;129;01min\u001B[39;00m axes\u001B[38;5;241m.\u001B[39mitems():\n\u001B[1;32m   4548\u001B[0m     \u001B[38;5;28;01mif\u001B[39;00m labels \u001B[38;5;129;01mis\u001B[39;00m \u001B[38;5;129;01mnot\u001B[39;00m \u001B[38;5;28;01mNone\u001B[39;00m:\n\u001B[0;32m-> 4549\u001B[0m         obj \u001B[38;5;241m=\u001B[39m \u001B[43mobj\u001B[49m\u001B[38;5;241;43m.\u001B[39;49m\u001B[43m_drop_axis\u001B[49m\u001B[43m(\u001B[49m\u001B[43mlabels\u001B[49m\u001B[43m,\u001B[49m\u001B[43m \u001B[49m\u001B[43maxis\u001B[49m\u001B[43m,\u001B[49m\u001B[43m \u001B[49m\u001B[43mlevel\u001B[49m\u001B[38;5;241;43m=\u001B[39;49m\u001B[43mlevel\u001B[49m\u001B[43m,\u001B[49m\u001B[43m \u001B[49m\u001B[43merrors\u001B[49m\u001B[38;5;241;43m=\u001B[39;49m\u001B[43merrors\u001B[49m\u001B[43m)\u001B[49m\n\u001B[1;32m   4551\u001B[0m \u001B[38;5;28;01mif\u001B[39;00m inplace:\n\u001B[1;32m   4552\u001B[0m     \u001B[38;5;28mself\u001B[39m\u001B[38;5;241m.\u001B[39m_update_inplace(obj)\n",
      "File \u001B[0;32m~/anaconda3/envs/tf_gpu/lib/python3.9/site-packages/pandas/core/generic.py:4591\u001B[0m, in \u001B[0;36mNDFrame._drop_axis\u001B[0;34m(self, labels, axis, level, errors, only_slice)\u001B[0m\n\u001B[1;32m   4589\u001B[0m         new_axis \u001B[38;5;241m=\u001B[39m axis\u001B[38;5;241m.\u001B[39mdrop(labels, level\u001B[38;5;241m=\u001B[39mlevel, errors\u001B[38;5;241m=\u001B[39merrors)\n\u001B[1;32m   4590\u001B[0m     \u001B[38;5;28;01melse\u001B[39;00m:\n\u001B[0;32m-> 4591\u001B[0m         new_axis \u001B[38;5;241m=\u001B[39m \u001B[43maxis\u001B[49m\u001B[38;5;241;43m.\u001B[39;49m\u001B[43mdrop\u001B[49m\u001B[43m(\u001B[49m\u001B[43mlabels\u001B[49m\u001B[43m,\u001B[49m\u001B[43m \u001B[49m\u001B[43merrors\u001B[49m\u001B[38;5;241;43m=\u001B[39;49m\u001B[43merrors\u001B[49m\u001B[43m)\u001B[49m\n\u001B[1;32m   4592\u001B[0m     indexer \u001B[38;5;241m=\u001B[39m axis\u001B[38;5;241m.\u001B[39mget_indexer(new_axis)\n\u001B[1;32m   4594\u001B[0m \u001B[38;5;66;03m# Case for non-unique axis\u001B[39;00m\n\u001B[1;32m   4595\u001B[0m \u001B[38;5;28;01melse\u001B[39;00m:\n",
      "File \u001B[0;32m~/anaconda3/envs/tf_gpu/lib/python3.9/site-packages/pandas/core/indexes/base.py:6699\u001B[0m, in \u001B[0;36mIndex.drop\u001B[0;34m(self, labels, errors)\u001B[0m\n\u001B[1;32m   6697\u001B[0m \u001B[38;5;28;01mif\u001B[39;00m mask\u001B[38;5;241m.\u001B[39many():\n\u001B[1;32m   6698\u001B[0m     \u001B[38;5;28;01mif\u001B[39;00m errors \u001B[38;5;241m!=\u001B[39m \u001B[38;5;124m\"\u001B[39m\u001B[38;5;124mignore\u001B[39m\u001B[38;5;124m\"\u001B[39m:\n\u001B[0;32m-> 6699\u001B[0m         \u001B[38;5;28;01mraise\u001B[39;00m \u001B[38;5;167;01mKeyError\u001B[39;00m(\u001B[38;5;124mf\u001B[39m\u001B[38;5;124m\"\u001B[39m\u001B[38;5;132;01m{\u001B[39;00m\u001B[38;5;28mlist\u001B[39m(labels[mask])\u001B[38;5;132;01m}\u001B[39;00m\u001B[38;5;124m not found in axis\u001B[39m\u001B[38;5;124m\"\u001B[39m)\n\u001B[1;32m   6700\u001B[0m     indexer \u001B[38;5;241m=\u001B[39m indexer[\u001B[38;5;241m~\u001B[39mmask]\n\u001B[1;32m   6701\u001B[0m \u001B[38;5;28;01mreturn\u001B[39;00m \u001B[38;5;28mself\u001B[39m\u001B[38;5;241m.\u001B[39mdelete(indexer)\n",
      "\u001B[0;31mKeyError\u001B[0m: \"['pain'] not found in axis\""
     ]
    }
   ],
   "source": [
    "X = train_data.drop('pain', axis=1)\n",
    "y = train_data['pain']\n",
    "X.drop(cat_cols, inplace=True, axis=1)\n",
    "\n",
    "hist = model.fit(X, y, verbose=False, early_stopping_rounds=5)"
   ],
   "metadata": {
    "collapsed": false,
    "ExecuteTime": {
     "end_time": "2023-10-02T17:39:39.328582915Z",
     "start_time": "2023-10-02T17:39:39.055307562Z"
    }
   },
   "id": "3ef1e8ac9d88f2f"
  },
  {
   "cell_type": "code",
   "execution_count": null,
   "outputs": [],
   "source": [
    "model.score(X, y)"
   ],
   "metadata": {
    "collapsed": false,
    "ExecuteTime": {
     "start_time": "2023-10-02T17:39:39.330416615Z"
    }
   },
   "id": "f3df2a67eb505b9f"
  },
  {
   "cell_type": "code",
   "execution_count": null,
   "outputs": [],
   "source": [
    "pred_class = model.predict(missing_train_rows)\n",
    "pred_prob = model.predict_proba(missing_train_rows)"
   ],
   "metadata": {
    "collapsed": false,
    "ExecuteTime": {
     "end_time": "2023-10-02T17:39:39.384897708Z",
     "start_time": "2023-10-02T17:39:39.372390547Z"
    }
   },
   "id": "128941a1fa8ffb45"
  },
  {
   "cell_type": "code",
   "execution_count": null,
   "outputs": [],
   "source": [
    "pain_map_reverse = {v:k for k,v in pain_map.items()}\n",
    "missing_train_rows['pain'] = pred_class\n",
    "missing_train_rows['pain'] = missing_train_rows['pain'].map(pain_map_reverse)"
   ],
   "metadata": {
    "collapsed": false,
    "ExecuteTime": {
     "start_time": "2023-10-02T17:39:39.372501647Z"
    }
   },
   "id": "56c63c49b3363e0f"
  },
  {
   "cell_type": "code",
   "execution_count": null,
   "outputs": [],
   "source": [
    "missing_train_rows['pain']"
   ],
   "metadata": {
    "collapsed": false,
    "ExecuteTime": {
     "start_time": "2023-10-02T17:39:39.372549707Z"
    }
   },
   "id": "7513ba98963718c0"
  },
  {
   "cell_type": "code",
   "execution_count": null,
   "outputs": [],
   "source": [
    "from sklearn.preprocessing import OneHotEncoder, LabelEncoder, StandardScaler\n",
    "from sklearn.compose import ColumnTransformer\n",
    "\n",
    "def treat_missing_rows(train_df, test_df, missing_rows, missing_cols):\n",
    "    num_cols = get_num_cols(missing_rows)\n",
    "    cat_cols = get_cat_cols(missing_rows)\n",
    "    \n",
    "    ohe = OneHotEncoder()\n",
    "    encoded_label = ohe.fit_transform(missing_rows[cat_cols])\n",
    "    print(encoded_label)\n",
    "    "
   ],
   "metadata": {
    "collapsed": false,
    "ExecuteTime": {
     "start_time": "2023-10-02T17:39:39.372587567Z"
    }
   },
   "id": "b97d3ef2a6d3fdad"
  },
  {
   "cell_type": "code",
   "execution_count": null,
   "outputs": [],
   "source": [],
   "metadata": {
    "collapsed": false,
    "ExecuteTime": {
     "start_time": "2023-10-02T17:39:39.372625837Z"
    }
   },
   "id": "cfc7645a478ab2cd"
  }
 ],
 "metadata": {
  "kernelspec": {
   "display_name": "Python 3",
   "language": "python",
   "name": "python3"
  },
  "language_info": {
   "codemirror_mode": {
    "name": "ipython",
    "version": 2
   },
   "file_extension": ".py",
   "mimetype": "text/x-python",
   "name": "python",
   "nbconvert_exporter": "python",
   "pygments_lexer": "ipython2",
   "version": "2.7.6"
  }
 },
 "nbformat": 4,
 "nbformat_minor": 5
}
